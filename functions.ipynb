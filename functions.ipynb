{
 "cells": [
  {
   "cell_type": "markdown",
   "id": "3c3ed8a8-eac9-4cb9-b50d-e358219b7538",
   "metadata": {},
   "source": [
    "## Function in Python\n",
    "In order to create a function in Python, one needs to use the term \"def\". After the \"def\", make empty space and define the name of the function which should be written lower case letters and must not start with a number. Ater the name, attached, one makes bracets in which the parameters which function will manipulate are defined, separtaed by comas: (<argument1, argument2,...). You end the function with the colon. The next lines of the function should be indented. See the example below:"
   ]
  },
  {
   "cell_type": "code",
   "execution_count": null,
   "id": "e74bb438-112f-4b6c-a583-4ac054eb6468",
   "metadata": {},
   "outputs": [],
   "source": [
    "def addition(number1, number2):\n",
    "    return number1 + number2"
   ]
  },
  {
   "cell_type": "markdown",
   "id": "2ff55e41-4ee9-46dd-924d-fc5cfc6a78ab",
   "metadata": {},
   "source": [
    "As presented above, the function \"addition\" was created which takes two arguments and adds it together. In this case these are integers but arguments can be strings, floats and bools. In order to return the result of the function one uses the \"return\" command. It is important to remeber about the indent. If one wants to call the function, its name has to be written together with attached brackets and parameters to previously defined arguments. For the example of the \"addition\" function, it will look like this:"
   ]
  },
  {
   "cell_type": "code",
   "execution_count": 3,
   "id": "3a9fcee0-1c88-4b92-8109-3c219baeaf24",
   "metadata": {},
   "outputs": [
    {
     "data": {
      "text/plain": [
       "6"
      ]
     },
     "execution_count": 3,
     "metadata": {},
     "output_type": "execute_result"
    }
   ],
   "source": [
    "def addition(number1, number2):\n",
    "    return number1 + number2\n",
    "\n",
    "addition(2, 4)"
   ]
  },
  {
   "cell_type": "markdown",
   "id": "7dfa44ec-df9e-41c7-9d7f-ceeda924aae8",
   "metadata": {},
   "source": [
    "Using function \"addition\" we added number 2 and 4 what has given us the result of 6. Command \"addition(2, 4)\" was the way to call the funtion."
   ]
  }
 ],
 "metadata": {
  "kernelspec": {
   "display_name": "Python 3 (ipykernel)",
   "language": "python",
   "name": "python3"
  },
  "language_info": {
   "codemirror_mode": {
    "name": "ipython",
    "version": 3
   },
   "file_extension": ".py",
   "mimetype": "text/x-python",
   "name": "python",
   "nbconvert_exporter": "python",
   "pygments_lexer": "ipython3",
   "version": "3.9.7"
  }
 },
 "nbformat": 4,
 "nbformat_minor": 5
}
