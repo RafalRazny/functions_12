{
 "cells": [
  {
   "cell_type": "code",
   "execution_count": null,
   "id": "49f4f208-a31b-4d38-bcc9-fd040b5010e4",
   "metadata": {},
   "outputs": [],
   "source": [
    "def generate_sum(N):\n",
    "    for i in range(1,N):\n",
    "        yield i\n",
    "total = 0\n",
    "for number in generate_sum(7):\n",
    "    total += number"
   ]
  }
 ],
 "metadata": {
  "kernelspec": {
   "display_name": "Python 3 (ipykernel)",
   "language": "python",
   "name": "python3"
  },
  "language_info": {
   "codemirror_mode": {
    "name": "ipython",
    "version": 3
   },
   "file_extension": ".py",
   "mimetype": "text/x-python",
   "name": "python",
   "nbconvert_exporter": "python",
   "pygments_lexer": "ipython3",
   "version": "3.9.7"
  }
 },
 "nbformat": 4,
 "nbformat_minor": 5
}
